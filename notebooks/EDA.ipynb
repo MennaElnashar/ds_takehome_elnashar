{
 "cells": [
  {
   "cell_type": "markdown",
   "metadata": {},
   "source": [
    "# Task A — EDA & Data Quality\n",
    "\n",
    "Describe findings and visuals here."
   ]
  },
  {
   "cell_type": "code",
   "execution_count": 1,
   "id": "33df322e",
   "metadata": {},
   "outputs": [],
   "source": [
    "# Setup & imports\n",
    "import pandas as pd\n",
    "import numpy as np\n",
    "import matplotlib.pyplot as plt\n",
    "import seaborn as sns\n",
    "import plotly.express as px\n",
    "import plotly.graph_objects as go\n",
    "from pathlib import Path\n",
    "import warnings\n",
    "warnings.filterwarnings('ignore')\n",
    "\n",
    "RANDOM_SEED = 42\n",
    "np.random.seed(RANDOM_SEED)\n",
    "sns.set(style=\"whitegrid\", palette=\"muted\", font_scale=1.05)\n",
    "pd.set_option('display.max_columns', 160)\n",
    "\n",
    "DATA_DIR = Path('../dataset')  \n"
   ]
  },
  {
   "cell_type": "code",
   "execution_count": 2,
   "id": "91440e66",
   "metadata": {},
   "outputs": [
    {
     "name": "stdout",
     "output_type": "stream",
     "text": [
      "Shapes: suppliers (20, 7) products (40, 5) prices (854, 7) po (4307, 14) deliv (4307, 7)\n"
     ]
    }
   ],
   "source": [
    "# Load datasets \n",
    "sup = pd.read_csv(DATA_DIR/'suppliers.csv')\n",
    "prod = pd.read_csv(DATA_DIR/'products.csv')\n",
    "prices = pd.read_csv(DATA_DIR/'price_lists.csv', parse_dates=['valid_from','valid_to'])\n",
    "po = pd.read_csv(DATA_DIR/'purchase_orders.csv', parse_dates=['order_date','promised_date'])\n",
    "deliv = pd.read_csv(DATA_DIR/'deliveries.csv', parse_dates=['actual_delivery_date'])\n",
    "\n",
    "print(\"Shapes: suppliers\", sup.shape, \"products\", prod.shape, \"prices\", prices.shape, \"po\", po.shape, \"deliv\", deliv.shape)\n"
   ]
  },
  {
   "cell_type": "code",
   "execution_count": 3,
   "id": "da71f61a",
   "metadata": {},
   "outputs": [
    {
     "name": "stdout",
     "output_type": "stream",
     "text": [
      "After merging deliveries into purchase_orders -> shape: (4307, 20)\n"
     ]
    }
   ],
   "source": [
    "# Merge deliveries into purchase_orders\n",
    "po = po.merge(deliv, on='order_id', how='left')\n",
    "print(\"After merging deliveries into purchase_orders -> shape:\", po.shape)\n"
   ]
  },
  {
   "cell_type": "code",
   "execution_count": 4,
   "id": "b37fff05",
   "metadata": {},
   "outputs": [
    {
     "name": "stdout",
     "output_type": "stream",
     "text": [
      "After merging suppliers: (4307, 26)\n"
     ]
    }
   ],
   "source": [
    "# Merge supplier info into POs\n",
    "po = po.merge(sup, on='supplier_id', how='left', suffixes=('','_supplier'))\n",
    "print(\"After merging suppliers:\", po.shape)"
   ]
  },
  {
   "cell_type": "code",
   "execution_count": 5,
   "id": "218ffb2a",
   "metadata": {},
   "outputs": [
    {
     "name": "stdout",
     "output_type": "stream",
     "text": [
      "After merging products: (4307, 30)\n"
     ]
    }
   ],
   "source": [
    "# Merge product info\n",
    "po = po.merge(prod, on='sku', how='left', suffixes=('','_product'))\n",
    "print(\"After merging products:\", po.shape)"
   ]
  },
  {
   "cell_type": "code",
   "execution_count": 6,
   "id": "5e42bcdd",
   "metadata": {},
   "outputs": [
    {
     "name": "stdout",
     "output_type": "stream",
     "text": [
      "After merging price_lists (strict window): (1871, 35)\n"
     ]
    }
   ],
   "source": [
    "# Price join: keep for analysis, not strictly needed for every EDA plot\n",
    "expanded = po.merge(prices, on=['supplier_id','sku'], how='left', suffixes=('','_price'))\n",
    "mask = (expanded['order_date'] >= expanded['valid_from']) & (expanded['order_date'] <= expanded['valid_to'])\n",
    "po_price_matched = expanded[mask].copy()\n",
    "print(\"After merging price_lists (strict window):\", po_price_matched.shape)"
   ]
  },
  {
   "cell_type": "code",
   "execution_count": 7,
   "id": "4c2c0e4e",
   "metadata": {},
   "outputs": [
    {
     "name": "stdout",
     "output_type": "stream",
     "text": [
      "Columns in merged PO table:\n",
      "['order_id', 'order_date', 'supplier_id', 'sku', 'qty', 'unit_price', 'currency', 'ship_mode', 'incoterm', 'payment_terms', 'distance_km', 'promised_date', 'urgent', 'order_notes', 'actual_delivery_date', 'late_delivery', 'delay_days', 'partial_delivery', 'cancelled', 'delay_reason', 'name', 'country', 'preferred', 'rating', 'base_lead_time_days', 'on_time_bias', 'name_product', 'uom', 'hazard_class', 'base_price_eur']\n"
     ]
    }
   ],
   "source": [
    "# Inspect merged columns and unique values\n",
    "\n",
    "# Print all column names\n",
    "print(\"Columns in merged PO table:\")\n",
    "print(po.columns.tolist())\n"
   ]
  },
  {
   "cell_type": "code",
   "execution_count": 8,
   "id": "362a6cf7",
   "metadata": {},
   "outputs": [
    {
     "name": "stdout",
     "output_type": "stream",
     "text": [
      "\n",
      "Missing in suppliers (fraction):\n",
      "Series([], dtype: float64)\n",
      "\n",
      "Missing in products (fraction):\n",
      "Series([], dtype: float64)\n",
      "\n",
      "Missing in price_lists (fraction):\n",
      "Series([], dtype: float64)\n",
      "\n",
      "Missing in purchase_orders (fraction):\n",
      "order_notes    0.900395\n",
      "dtype: float64\n",
      "\n",
      "Missing in deliveries (fraction):\n",
      "Series([], dtype: float64)\n"
     ]
    }
   ],
   "source": [
    "# Missing values summary (top columns with missingness)\n",
    "def missing_summary(df, name):\n",
    "    m = df.isna().mean().sort_values(ascending=False)\n",
    "    m = m[m>0]\n",
    "    print(f\"\\nMissing in {name} (fraction):\")\n",
    "    print(m.head(30))\n",
    "\n",
    "missing_summary(sup, 'suppliers')\n",
    "missing_summary(prod, 'products')\n",
    "missing_summary(prices, 'price_lists')\n",
    "missing_summary(po, 'purchase_orders')\n",
    "missing_summary(deliv, 'deliveries')\n"
   ]
  },
  {
   "cell_type": "markdown",
   "id": "4a3d9301",
   "metadata": {},
   "source": [
    "Around 90% missing values in order_notes.\n",
    "This is expected: notes are usually free-text comments, and most orders don’t have them.\n",
    "I will keep them because I think notes might contain useful context (special instructions, complaints, discounts, etc.)"
   ]
  },
  {
   "cell_type": "code",
   "execution_count": 9,
   "id": "57ea7714",
   "metadata": {},
   "outputs": [
    {
     "name": "stdout",
     "output_type": "stream",
     "text": [
      "suppliers supplier_id unique: True\n",
      "products sku unique: True\n",
      "price_lists row count: 854\n",
      "purchase_orders order_id unique: True\n",
      "supplier_ids in POs not present in suppliers (count): 0\n",
      "skus in POs not present in products (count): 0\n"
     ]
    }
   ],
   "source": [
    "# Verify key uniqueness and join coverage\n",
    "print(\"suppliers supplier_id unique:\", sup['supplier_id'].is_unique)\n",
    "print(\"products sku unique:\", prod['sku'].is_unique)\n",
    "print(\"price_lists row count:\", len(prices))\n",
    "\n",
    "print(\"purchase_orders order_id unique:\", po['order_id'].is_unique)\n",
    "\n",
    "# supplier ids referenced in PO but missing in suppliers master\n",
    "sup_in_po = set(po['supplier_id'].dropna().unique())\n",
    "sup_master = set(sup['supplier_id'].dropna().unique())\n",
    "missing_sup = sup_in_po - sup_master\n",
    "print(\"supplier_ids in POs not present in suppliers (count):\", len(missing_sup))\n",
    "if missing_sup:\n",
    "    print(\"sample missing supplier ids:\", list(missing_sup)[:10])\n",
    "\n",
    "# sku coverage\n",
    "sku_in_po = set(po['sku'].dropna().unique())\n",
    "sku_master = set(prod['sku'].dropna().unique())\n",
    "missing_sku = sku_in_po - sku_master\n",
    "print(\"skus in POs not present in products (count):\", len(missing_sku))\n",
    "if missing_sku:\n",
    "    print(\"sample missing skus:\", list(missing_sku)[:10])\n"
   ]
  },
  {
   "cell_type": "code",
   "execution_count": 10,
   "id": "97c94c0e",
   "metadata": {},
   "outputs": [
    {
     "name": "stdout",
     "output_type": "stream",
     "text": [
      "po.order_date dtype: datetime64[ns]\n",
      "po.promised_date dtype: datetime64[ns]\n",
      "deliv.actual_delivery_date dtype: datetime64[ns]\n"
     ]
    }
   ],
   "source": [
    "# Basic data type checks & conversions (ensure dates are correct)\n",
    "print(\"po.order_date dtype:\", po['order_date'].dtype)\n",
    "print(\"po.promised_date dtype:\", po['promised_date'].dtype)\n",
    "print(\"deliv.actual_delivery_date dtype:\", deliv['actual_delivery_date'].dtype)\n",
    "\n",
    "# coerce to datetime (defensive)\n",
    "po['order_date'] = pd.to_datetime(po['order_date'], errors='coerce')\n",
    "po['promised_date'] = pd.to_datetime(po['promised_date'], errors='coerce')\n",
    "po['actual_delivery_date'] = pd.to_datetime(po['actual_delivery_date'], errors='coerce')\n"
   ]
  },
  {
   "cell_type": "code",
   "execution_count": 11,
   "id": "b2628619",
   "metadata": {},
   "outputs": [
    {
     "name": "stdout",
     "output_type": "stream",
     "text": [
      "orders with qty <= 0: 0\n",
      "orders missing unit_price: 0\n",
      "promised_date earlier than order_date (count): 0\n",
      "actual_delivery_date earlier than order_date (count): 1\n"
     ]
    }
   ],
   "source": [
    "# Inconsistency checks (promised_date before order_date, early deliveries, non-positive qty)\n",
    "print(\"orders with qty <= 0:\", ((po['qty'] <= 0) & po['qty'].notna()).sum())\n",
    "print(\"orders missing unit_price:\", po['unit_price'].isna().sum())\n",
    "\n",
    "if 'promised_date' in po.columns and 'order_date' in po.columns:\n",
    "    bad_prom = (po['promised_date'] < po['order_date']).sum()\n",
    "    print(\"promised_date earlier than order_date (count):\", bad_prom)\n",
    "\n",
    "if 'actual_delivery_date' in po.columns:\n",
    "    early_deliv = (po['actual_delivery_date'] < po['order_date']).sum()\n",
    "    print(\"actual_delivery_date earlier than order_date (count):\", early_deliv)\n"
   ]
  },
  {
   "cell_type": "code",
   "execution_count": 12,
   "id": "56120e8c",
   "metadata": {},
   "outputs": [
    {
     "name": "stdout",
     "output_type": "stream",
     "text": [
      "Active orders (non-cancelled): 4307\n"
     ]
    }
   ],
   "source": [
    "# Create derived cols: year_month and active orders (exclude cancelled)\n",
    "po['year_month'] = po['order_date'].dt.to_period('M').dt.to_timestamp()\n",
    "po['cancelled'] = po['cancelled'].fillna(0).astype(int)\n",
    "# late_delivery may be NaN for non-delivered orders; fill with 0 for analysis but keep original where needed\n",
    "po['late_delivery'] = po['late_delivery'].fillna(0).astype(int)\n",
    "active = po.query('cancelled == 0').copy()\n",
    "print(\"Active orders (non-cancelled):\", len(active))\n"
   ]
  },
  {
   "cell_type": "code",
   "execution_count": 13,
   "id": "455259a1",
   "metadata": {},
   "outputs": [
    {
     "data": {
      "image/png": "[encoded data removed]",
      "text/plain": [
       "<Figure size 1400x400 with 2 Axes>"
      ]
     },
     "metadata": {},
     "output_type": "display_data"
    }
   ],
   "source": [
    "# Seasonality - Orders and Late Rate by month\n",
    "monthly = active.groupby('year_month').agg(orders=('order_id','count'), late_rate=('late_delivery','mean')).reset_index()\n",
    "\n",
    "fig, ax = plt.subplots(1,2, figsize=(14,4))\n",
    "sns.lineplot(data=monthly, x='year_month', y='orders', marker='o', ax=ax[0])\n",
    "ax[0].set_title('Orders by Month')\n",
    "ax[0].tick_params(axis='x', rotation=45)\n",
    "sns.lineplot(data=monthly, x='year_month', y='late_rate', marker='o', ax=ax[1])\n",
    "ax[1].set_title('Late Rate by Month')\n",
    "ax[1].tick_params(axis='x', rotation=45)\n",
    "plt.tight_layout()\n",
    "plt.show()\n"
   ]
  },
  {
   "cell_type": "code",
   "execution_count": 14,
   "id": "a0a38e11",
   "metadata": {},
   "outputs": [
    {
     "data": {
      "application/vnd.plotly.v1+json": {
       "config": {
        "plotlyServerURL": "https://plot.ly"
       },
       "data": [
        {
         "mode": "lines+markers",
         "name": "Orders",
         "type": "scatter",
         "x": [
          "2024-01-01T00:00:00",
          "2024-02-01T00:00:00",
          "2024-03-01T00:00:00",
          "2024-04-01T00:00:00",
          "2024-05-01T00:00:00",
          "2024-06-01T00:00:00",
          "2024-07-01T00:00:00",
          "2024-08-01T00:00:00",
          "2024-09-01T00:00:00",
          "2024-10-01T00:00:00",
          "2024-11-01T00:00:00",
          "2024-12-01T00:00:00",
          "2025-01-01T00:00:00",
          "2025-02-01T00:00:00",
          "2025-03-01T00:00:00",
          "2025-04-01T00:00:00",
          "2025-05-01T00:00:00",
          "2025-06-01T00:00:00"
         ],
         "y": [
          237,
          212,
          271,
          241,
          233,
          219,
          245,
          276,
          205,
          260,
          273,
          208,
          238,
          226,
          228,
          231,
          266,
          238
         ]
        },
        {
         "mode": "lines+markers",
         "name": "Late Rate",
         "type": "scatter",
         "x": [
          "2024-01-01T00:00:00",
          "2024-02-01T00:00:00",
          "2024-03-01T00:00:00",
          "2024-04-01T00:00:00",
          "2024-05-01T00:00:00",
          "2024-06-01T00:00:00",
          "2024-07-01T00:00:00",
          "2024-08-01T00:00:00",
          "2024-09-01T00:00:00",
          "2024-10-01T00:00:00",
          "2024-11-01T00:00:00",
          "2024-12-01T00:00:00",
          "2025-01-01T00:00:00",
          "2025-02-01T00:00:00",
          "2025-03-01T00:00:00",
          "2025-04-01T00:00:00",
          "2025-05-01T00:00:00",
          "2025-06-01T00:00:00"
         ],
         "y": [
          0.5274261603375527,
          0.5094339622641509,
          0.4870848708487085,
          0.4854771784232365,
          0.4678111587982833,
          0.5251141552511416,
          0.5142857142857142,
          0.5217391304347826,
          0.4585365853658537,
          0.5038461538461538,
          0.4945054945054945,
          0.39903846153846156,
          0.5126050420168067,
          0.4911504424778761,
          0.49122807017543857,
          0.4675324675324675,
          0.5338345864661654,
          0.5462184873949579
         ],
         "yaxis": "y2"
        }
       ],
       "layout": {
        "template": {
         "data": {
          "bar": [
           {
            "error_x": {
             "color": "#2a3f5f"
            },
            "error_y": {
             "color": "#2a3f5f"
            },
            "marker": {
             "line": {
              "color": "#E5ECF6",
              "width": 0.5
             },
             "pattern": {
              "fillmode": "overlay",
              "size": 10,
              "solidity": 0.2
             }
            },
            "type": "bar"
           }
          ],
          "barpolar": [
           {
            "marker": {
             "line": {
              "color": "#E5ECF6",
              "width": 0.5
             },
             "pattern": {
              "fillmode": "overlay",
              "size": 10,
              "solidity": 0.2
             }
            },
            "type": "barpolar"
           }
          ],
          "carpet": [
           {
            "aaxis": {
             "endlinecolor": "#2a3f5f",
             "gridcolor": "white",
             "linecolor": "white",
             "minorgridcolor": "white",
             "startlinecolor": "#2a3f5f"
            },
            "baxis": {
             "endlinecolor": "#2a3f5f",
             "gridcolor": "white",
             "linecolor": "white",
             "minorgridcolor": "white",
             "startlinecolor": "#2a3f5f"
            },
            "type": "carpet"
           }
          ],
          "choropleth": [
           {
            "colorbar": {
             "outlinewidth": 0,
             "ticks": ""
            },
            "type": "choropleth"
           }
          ],
          "contour": [
           {
            "colorbar": {
             "outlinewidth": 0,
             "ticks": ""
            },
            "colorscale": [
             [
              0,
              "#0d0887"
             ],
             [
              0.1111111111111111,
              "#46039f"
             ],
             [
              0.2222222222222222,
              "#7201a8"
             ],
             [
              0.3333333333333333,
              "#9c179e"
             ],
             [
              0.4444444444444444,
              "#bd3786"
             ],
             [
              0.5555555555555556,
              "#d8576b"
             ],
             [
              0.6666666666666666,
              "#ed7953"
             ],
             [
              0.7777777777777778,
              "#fb9f3a"
             ],
             [
              0.8888888888888888,
              "#fdca26"
             ],
             [
              1,
              "#f0f921"
             ]
            ],
            "type": "contour"
           }
          ],
          "contourcarpet": [
           {
            "colorbar": {
             "outlinewidth": 0,
             "ticks": ""
            },
            "type": "contourcarpet"
           }
          ],
          "heatmap": [
           {
            "colorbar": {
             "outlinewidth": 0,
             "ticks": ""
            },
            "colorscale": [
             [
              0,
              "#0d0887"
             ],
             [
              0.1111111111111111,
              "#46039f"
             ],
             [
              0.2222222222222222,
              "#7201a8"
             ],
             [
              0.3333333333333333,
              "#9c179e"
             ],
             [
              0.4444444444444444,
              "#bd3786"
             ],
             [
              0.5555555555555556,
              "#d8576b"
             ],
             [
              0.6666666666666666,
              "#ed7953"
             ],
             [
              0.7777777777777778,
              "#fb9f3a"
             ],
             [
              0.8888888888888888,
              "#fdca26"
             ],
             [
              1,
              "#f0f921"
             ]
            ],
            "type": "heatmap"
           }
          ],
          "heatmapgl": [
           {
            "colorbar": {
             "outlinewidth": 0,
             "ticks": ""
            },
            "colorscale": [
             [
              0,
              "#0d0887"
             ],
             [
              0.1111111111111111,
              "#46039f"
             ],
             [
              0.2222222222222222,
              "#7201a8"
             ],
             [
              0.3333333333333333,
              "#9c179e"
             ],
             [
              0.4444444444444444,
              "#bd3786"
             ],
             [
              0.5555555555555556,
              "#d8576b"
             ],
             [
              0.6666666666666666,
              "#ed7953"
             ],
             [
              0.7777777777777778,
              "#fb9f3a"
             ],
             [
              0.8888888888888888,
              "#fdca26"
             ],
             [
              1,
              "#f0f921"
             ]
            ],
            "type": "heatmapgl"
           }
          ],
          "histogram": [
           {
            "marker": {
             "pattern": {
              "fillmode": "overlay",
              "size": 10,
              "solidity": 0.2
             }
            },
            "type": "histogram"
           }
          ],
          "histogram2d": [
           {
            "colorbar": {
             "outlinewidth": 0,
             "ticks": ""
            },
            "colorscale": [
             [
              0,
              "#0d0887"
             ],
             [
              0.1111111111111111,
              "#46039f"
             ],
             [
              0.2222222222222222,
              "#7201a8"
             ],
             [
              0.3333333333333333,
              "#9c179e"
             ],
             [
              0.4444444444444444,
              "#bd3786"
             ],
             [
              0.5555555555555556,
              "#d8576b"
             ],
             [
              0.6666666666666666,
              "#ed7953"
             ],
             [
              0.7777777777777778,
              "#fb9f3a"
             ],
             [
              0.8888888888888888,
              "#fdca26"
             ],
             [
              1,
              "#f0f921"
             ]
            ],
            "type": "histogram2d"
           }
          ],
          "histogram2dcontour": [
           {
            "colorbar": {
             "outlinewidth": 0,
             "ticks": ""
            },
            "colorscale": [
             [
              0,
              "#0d0887"
             ],
             [
              0.1111111111111111,
              "#46039f"
             ],
             [
              0.2222222222222222,
              "#7201a8"
             ],
             [
              0.3333333333333333,
              "#9c179e"
             ],
             [
              0.4444444444444444,
              "#bd3786"
             ],
             [
              0.5555555555555556,
              "#d8576b"
             ],
             [
              0.6666666666666666,
              "#ed7953"
             ],
             [
              0.7777777777777778,
              "#fb9f3a"
             ],
             [
              0.8888888888888888,
              "#fdca26"
             ],
             [
              1,
              "#f0f921"
             ]
            ],
            "type": "histogram2dcontour"
           }
          ],
          "mesh3d": [
           {
            "colorbar": {
             "outlinewidth": 0,
             "ticks": ""
            },
            "type": "mesh3d"
           }
          ],
          "parcoords": [
           {
            "line": {
             "colorbar": {
              "outlinewidth": 0,
              "ticks": ""
             }
            },
            "type": "parcoords"
           }
          ],
          "pie": [
           {
            "automargin": true,
            "type": "pie"
           }
          ],
          "scatter": [
           {
            "fillpattern": {
             "fillmode": "overlay",
             "size": 10,
             "solidity": 0.2
            },
            "type": "scatter"
           }
          ],
          "scatter3d": [
           {
            "line": {
             "colorbar": {
              "outlinewidth": 0,
              "ticks": ""
             }
            },
            "marker": {
             "colorbar": {
              "outlinewidth": 0,
              "ticks": ""
             }
            },
            "type": "scatter3d"
           }
          ],
          "scattercarpet": [
           {
            "marker": {
             "colorbar": {
              "outlinewidth": 0,
              "ticks": ""
             }
            },
            "type": "scattercarpet"
           }
          ],
          "scattergeo": [
           {
            "marker": {
             "colorbar": {
              "outlinewidth": 0,
              "ticks": ""
             }
            },
            "type": "scattergeo"
           }
          ],
          "scattergl": [
           {
            "marker": {
             "colorbar": {
              "outlinewidth": 0,
              "ticks": ""
             }
            },
            "type": "scattergl"
           }
          ],
          "scattermapbox": [
           {
            "marker": {
             "colorbar": {
              "outlinewidth": 0,
              "ticks": ""
             }
            },
            "type": "scattermapbox"
           }
          ],
          "scatterpolar": [
           {
            "marker": {
             "colorbar": {
              "outlinewidth": 0,
              "ticks": ""
             }
            },
            "type": "scatterpolar"
           }
          ],
          "scatterpolargl": [
           {
            "marker": {
             "colorbar": {
              "outlinewidth": 0,
              "ticks": ""
             }
            },
            "type": "scatterpolargl"
           }
          ],
          "scatterternary": [
           {
            "marker": {
             "colorbar": {
              "outlinewidth": 0,
              "ticks": ""
             }
            },
            "type": "scatterternary"
           }
          ],
          "surface": [
           {
            "colorbar": {
             "outlinewidth": 0,
             "ticks": ""
            },
            "colorscale": [
             [
              0,
              "#0d0887"
             ],
             [
              0.1111111111111111,
              "#46039f"
             ],
             [
              0.2222222222222222,
              "#7201a8"
             ],
             [
              0.3333333333333333,
              "#9c179e"
             ],
             [
              0.4444444444444444,
              "#bd3786"
             ],
             [
              0.5555555555555556,
              "#d8576b"
             ],
             [
              0.6666666666666666,
              "#ed7953"
             ],
             [
              0.7777777777777778,
              "#fb9f3a"
             ],
             [
              0.8888888888888888,
              "#fdca26"
             ],
             [
              1,
              "#f0f921"
             ]
            ],
            "type": "surface"
           }
          ],
          "table": [
           {
            "cells": {
             "fill": {
              "color": "#EBF0F8"
             },
             "line": {
              "color": "white"
             }
            },
            "header": {
             "fill": {
              "color": "#C8D4E3"
             },
             "line": {
              "color": "white"
             }
            },
            "type": "table"
           }
          ]
         },
         "layout": {
          "annotationdefaults": {
           "arrowcolor": "#2a3f5f",
           "arrowhead": 0,
           "arrowwidth": 1
          },
          "autotypenumbers": "strict",
          "coloraxis": {
           "colorbar": {
            "outlinewidth": 0,
            "ticks": ""
           }
          },
          "colorscale": {
           "diverging": [
            [
             0,
             "#8e0152"
            ],
            [
             0.1,
             "#c51b7d"
            ],
            [
             0.2,
             "#de77ae"
            ],
            [
             0.3,
             "#f1b6da"
            ],
            [
             0.4,
             "#fde0ef"
            ],
            [
             0.5,
             "#f7f7f7"
            ],
            [
             0.6,
             "#e6f5d0"
            ],
            [
             0.7,
             "#b8e186"
            ],
            [
             0.8,
             "#7fbc41"
            ],
            [
             0.9,
             "#4d9221"
            ],
            [
             1,
             "#276419"
            ]
           ],
           "sequential": [
            [
             0,
             "#0d0887"
            ],
            [
             0.1111111111111111,
             "#46039f"
            ],
            [
             0.2222222222222222,
             "#7201a8"
            ],
            [
             0.3333333333333333,
             "#9c179e"
            ],
            [
             0.4444444444444444,
             "#bd3786"
            ],
            [
             0.5555555555555556,
             "#d8576b"
            ],
            [
             0.6666666666666666,
             "#ed7953"
            ],
            [
             0.7777777777777778,
             "#fb9f3a"
            ],
            [
             0.8888888888888888,
             "#fdca26"
            ],
            [
             1,
             "#f0f921"
            ]
           ],
           "sequentialminus": [
            [
             0,
             "#0d0887"
            ],
            [
             0.1111111111111111,
             "#46039f"
            ],
            [
             0.2222222222222222,
             "#7201a8"
            ],
            [
             0.3333333333333333,
             "#9c179e"
            ],
            [
             0.4444444444444444,
             "#bd3786"
            ],
            [
             0.5555555555555556,
             "#d8576b"
            ],
            [
             0.6666666666666666,
             "#ed7953"
            ],
            [
             0.7777777777777778,
             "#fb9f3a"
            ],
            [
             0.8888888888888888,
             "#fdca26"
            ],
            [
             1,
             "#f0f921"
            ]
           ]
          },
          "colorway": [
           "#636efa",
           "#EF553B",
           "#00cc96",
           "#ab63fa",
           "#FFA15A",
           "#19d3f3",
           "#FF6692",
           "#B6E880",
           "#FF97FF",
           "#FECB52"
          ],
          "font": {
           "color": "#2a3f5f"
          },
          "geo": {
           "bgcolor": "white",
           "lakecolor": "white",
           "landcolor": "#E5ECF6",
           "showlakes": true,
           "showland": true,
           "subunitcolor": "white"
          },
          "hoverlabel": {
           "align": "left"
          },
          "hovermode": "closest",
          "mapbox": {
           "style": "light"
          },
          "paper_bgcolor": "white",
          "plot_bgcolor": "#E5ECF6",
          "polar": {
           "angularaxis": {
            "gridcolor": "white",
            "linecolor": "white",
            "ticks": ""
           },
           "bgcolor": "#E5ECF6",
           "radialaxis": {
            "gridcolor": "white",
            "linecolor": "white",
            "ticks": ""
           }
          },
          "scene": {
           "xaxis": {
            "backgroundcolor": "#E5ECF6",
            "gridcolor": "white",
            "gridwidth": 2,
            "linecolor": "white",
            "showbackground": true,
            "ticks": "",
            "zerolinecolor": "white"
           },
           "yaxis": {
            "backgroundcolor": "#E5ECF6",
            "gridcolor": "white",
            "gridwidth": 2,
            "linecolor": "white",
            "showbackground": true,
            "ticks": "",
            "zerolinecolor": "white"
           },
           "zaxis": {
            "backgroundcolor": "#E5ECF6",
            "gridcolor": "white",
            "gridwidth": 2,
            "linecolor": "white",
            "showbackground": true,
            "ticks": "",
            "zerolinecolor": "white"
           }
          },
          "shapedefaults": {
           "line": {
            "color": "#2a3f5f"
           }
          },
          "ternary": {
           "aaxis": {
            "gridcolor": "white",
            "linecolor": "white",
            "ticks": ""
           },
           "baxis": {
            "gridcolor": "white",
            "linecolor": "white",
            "ticks": ""
           },
           "bgcolor": "#E5ECF6",
           "caxis": {
            "gridcolor": "white",
            "linecolor": "white",
            "ticks": ""
           }
          },
          "title": {
           "x": 0.05
          },
          "xaxis": {
           "automargin": true,
           "gridcolor": "white",
           "linecolor": "white",
           "ticks": "",
           "title": {
            "standoff": 15
           },
           "zerolinecolor": "white",
           "zerolinewidth": 2
          },
          "yaxis": {
           "automargin": true,
           "gridcolor": "white",
           "linecolor": "white",
           "ticks": "",
           "title": {
            "standoff": 15
           },
           "zerolinecolor": "white",
           "zerolinewidth": 2
          }
         }
        },
        "title": {
         "text": "Orders (left) and Late Rate (right) by Month"
        },
        "xaxis": {
         "title": {
          "text": "Month"
         }
        },
        "yaxis": {
         "title": {
          "text": "Orders"
         }
        },
        "yaxis2": {
         "overlaying": "y",
         "side": "right",
         "title": {
          "text": "Late Rate"
         }
        }
       }
      }
     },
     "metadata": {},
     "output_type": "display_data"
    }
   ],
   "source": [
    "# Seasonality (plotly interactive) - Orders & Late Rate combined\n",
    "if not monthly.empty:\n",
    "    fig = go.Figure()\n",
    "    fig.add_trace(go.Scatter(x=monthly['year_month'], y=monthly['orders'], mode='lines+markers', name='Orders'))\n",
    "    fig.add_trace(go.Scatter(x=monthly['year_month'], y=monthly['late_rate'], mode='lines+markers', name='Late Rate', yaxis='y2'))\n",
    "    fig.update_layout(\n",
    "        title='Orders (left) and Late Rate (right) by Month',\n",
    "        xaxis_title='Month',\n",
    "        yaxis=dict(title='Orders'),\n",
    "        yaxis2=dict(title='Late Rate', overlaying='y', side='right')\n",
    "    )\n",
    "    fig.show()\n"
   ]
  },
  {
   "cell_type": "code",
   "execution_count": 15,
   "id": "788a2300",
   "metadata": {},
   "outputs": [
    {
     "data": {
      "image/png": "[encoded data removed]",
      "text/plain": [
       "<Figure size 1000x600 with 1 Axes>"
      ]
     },
     "metadata": {},
     "output_type": "display_data"
    }
   ],
   "source": [
    "# Supplier patterns: Late rate (Top 10 suppliers by order count)\n",
    "\n",
    "# Consider only non-cancelled orders\n",
    "active_orders = po[po['cancelled'] == 0].copy()\n",
    "\n",
    "# Ensure supplier_id is string for plotting\n",
    "active_orders['supplier_id'] = active_orders['supplier_id'].astype(str)\n",
    "\n",
    "# Aggregate by supplier\n",
    "sup_summary = (\n",
    "    active_orders.groupby('supplier_id')\n",
    "    .agg(\n",
    "        orders=('order_id', 'count'),\n",
    "        late_rate=('late_delivery', 'mean')\n",
    "    )\n",
    "    .reset_index()\n",
    ")\n",
    "\n",
    "# Top 10 suppliers by number of orders\n",
    "top_sup = sup_summary.sort_values('orders', ascending=False).head(10)\n",
    "\n",
    "# Sort ascending for horizontal bar chart\n",
    "top_sup = top_sup.sort_values('orders', ascending=True)\n",
    "\n",
    "# Plot horizontal bar chart\n",
    "plt.figure(figsize=(10,6))\n",
    "sns.barplot(\n",
    "    data=top_sup,\n",
    "    x='late_rate',\n",
    "    y='supplier_id',  # now categorical (string)\n",
    "    palette='viridis'\n",
    ")\n",
    "plt.title('Late Rate of Top 10 Suppliers by Order Count')\n",
    "plt.xlabel('Late Rate')\n",
    "plt.ylabel('Supplier ID')\n",
    "plt.xlim(0, 1)  # Late rate is a fraction\n",
    "plt.tight_layout()\n",
    "plt.show()\n"
   ]
  },
  {
   "cell_type": "code",
   "execution_count": 16,
   "id": "4b68ba22",
   "metadata": {},
   "outputs": [
    {
     "data": {
      "application/vnd.plotly.v1+json": {
       "config": {
        "plotlyServerURL": "https://plot.ly"
       },
       "data": [
        {
         "alignmentgroup": "True",
         "hovertemplate": "orders=%{x}<br>supplier_id=%{y}<extra></extra>",
         "legendgroup": "",
         "marker": {
          "color": "#636efa",
          "pattern": {
           "shape": ""
          }
         },
         "name": "",
         "offsetgroup": "",
         "orientation": "h",
         "showlegend": false,
         "textposition": "auto",
         "type": "bar",
         "x": [
          237,
          229,
          229,
          228,
          225,
          225,
          222,
          221,
          219,
          218,
          215,
          214,
          211,
          211,
          208,
          204,
          203,
          200,
          197,
          191
         ],
         "xaxis": "x",
         "y": [
          20,
          13,
          2,
          5,
          15,
          6,
          16,
          9,
          1,
          7,
          17,
          3,
          10,
          14,
          8,
          12,
          4,
          18,
          19,
          11
         ],
         "yaxis": "y"
        }
       ],
       "layout": {
        "barmode": "relative",
        "legend": {
         "tracegroupgap": 0
        },
        "template": {
         "data": {
          "bar": [
           {
            "error_x": {
             "color": "#2a3f5f"
            },
            "error_y": {
             "color": "#2a3f5f"
            },
            "marker": {
             "line": {
              "color": "#E5ECF6",
              "width": 0.5
             },
             "pattern": {
              "fillmode": "overlay",
              "size": 10,
              "solidity": 0.2
             }
            },
            "type": "bar"
           }
          ],
          "barpolar": [
           {
            "marker": {
             "line": {
              "color": "#E5ECF6",
              "width": 0.5
             },
             "pattern": {
              "fillmode": "overlay",
              "size": 10,
              "solidity": 0.2
             }
            },
            "type": "barpolar"
           }
          ],
          "carpet": [
           {
            "aaxis": {
             "endlinecolor": "#2a3f5f",
             "gridcolor": "white",
             "linecolor": "white",
             "minorgridcolor": "white",
             "startlinecolor": "#2a3f5f"
            },
            "baxis": {
             "endlinecolor": "#2a3f5f",
             "gridcolor": "white",
             "linecolor": "white",
             "minorgridcolor": "white",
             "startlinecolor": "#2a3f5f"
            },
            "type": "carpet"
           }
          ],
          "choropleth": [
           {
            "colorbar": {
             "outlinewidth": 0,
             "ticks": ""
            },
            "type": "choropleth"
           }
          ],
          "contour": [
           {
            "colorbar": {
             "outlinewidth": 0,
             "ticks": ""
            },
            "colorscale": [
             [
              0,
              "#0d0887"
             ],
             [
              0.1111111111111111,
              "#46039f"
             ],
             [
              0.2222222222222222,
              "#7201a8"
             ],
             [
              0.3333333333333333,
              "#9c179e"
             ],
             [
              0.4444444444444444,
              "#bd3786"
             ],
             [
              0.5555555555555556,
              "#d8576b"
             ],
             [
              0.6666666666666666,
              "#ed7953"
             ],
             [
              0.7777777777777778,
              "#fb9f3a"
             ],
             [
              0.8888888888888888,
              "#fdca26"
             ],
             [
              1,
              "#f0f921"
             ]
            ],
            "type": "contour"
           }
          ],
          "contourcarpet": [
           {
            "colorbar": {
             "outlinewidth": 0,
             "ticks": ""
            },
            "type": "contourcarpet"
           }
          ],
          "heatmap": [
           {
            "colorbar": {
             "outlinewidth": 0,
             "ticks": ""
            },
            "colorscale": [
             [
              0,
              "#0d0887"
             ],
             [
              0.1111111111111111,
              "#46039f"
             ],
             [
              0.2222222222222222,
              "#7201a8"
             ],
             [
              0.3333333333333333,
              "#9c179e"
             ],
             [
              0.4444444444444444,
              "#bd3786"
             ],
             [
              0.5555555555555556,
              "#d8576b"
             ],
             [
              0.6666666666666666,
              "#ed7953"
             ],
             [
              0.7777777777777778,
              "#fb9f3a"
             ],
             [
              0.8888888888888888,
              "#fdca26"
             ],
             [
              1,
              "#f0f921"
             ]
            ],
            "type": "heatmap"
           }
          ],
          "heatmapgl": [
           {
            "colorbar": {
             "outlinewidth": 0,
             "ticks": ""
            },
            "colorscale": [
             [
              0,
              "#0d0887"
             ],
             [
              0.1111111111111111,
              "#46039f"
             ],
             [
              0.2222222222222222,
              "#7201a8"
             ],
             [
              0.3333333333333333,
              "#9c179e"
             ],
             [
              0.4444444444444444,
              "#bd3786"
             ],
             [
              0.5555555555555556,
              "#d8576b"
             ],
             [
              0.6666666666666666,
              "#ed7953"
             ],
             [
              0.7777777777777778,
              "#fb9f3a"
             ],
             [
              0.8888888888888888,
              "#fdca26"
             ],
             [
              1,
              "#f0f921"
             ]
            ],
            "type": "heatmapgl"
           }
          ],
          "histogram": [
           {
            "marker": {
             "pattern": {
              "fillmode": "overlay",
              "size": 10,
              "solidity": 0.2
             }
            },
            "type": "histogram"
           }
          ],
          "histogram2d": [
           {
            "colorbar": {
             "outlinewidth": 0,
             "ticks": ""
            },
            "colorscale": [
             [
              0,
              "#0d0887"
             ],
             [
              0.1111111111111111,
              "#46039f"
             ],
             [
              0.2222222222222222,
              "#7201a8"
             ],
             [
              0.3333333333333333,
              "#9c179e"
             ],
             [
              0.4444444444444444,
              "#bd3786"
             ],
             [
              0.5555555555555556,
              "#d8576b"
             ],
             [
              0.6666666666666666,
              "#ed7953"
             ],
             [
              0.7777777777777778,
              "#fb9f3a"
             ],
             [
              0.8888888888888888,
              "#fdca26"
             ],
             [
              1,
              "#f0f921"
             ]
            ],
            "type": "histogram2d"
           }
          ],
          "histogram2dcontour": [
           {
            "colorbar": {
             "outlinewidth": 0,
             "ticks": ""
            },
            "colorscale": [
             [
              0,
              "#0d0887"
             ],
             [
              0.1111111111111111,
              "#46039f"
             ],
             [
              0.2222222222222222,
              "#7201a8"
             ],
             [
              0.3333333333333333,
              "#9c179e"
             ],
             [
              0.4444444444444444,
              "#bd3786"
             ],
             [
              0.5555555555555556,
              "#d8576b"
             ],
             [
              0.6666666666666666,
              "#ed7953"
             ],
             [
              0.7777777777777778,
              "#fb9f3a"
             ],
             [
              0.8888888888888888,
              "#fdca26"
             ],
             [
              1,
              "#f0f921"
             ]
            ],
            "type": "histogram2dcontour"
           }
          ],
          "mesh3d": [
           {
            "colorbar": {
             "outlinewidth": 0,
             "ticks": ""
            },
            "type": "mesh3d"
           }
          ],
          "parcoords": [
           {
            "line": {
             "colorbar": {
              "outlinewidth": 0,
              "ticks": ""
             }
            },
            "type": "parcoords"
           }
          ],
          "pie": [
           {
            "automargin": true,
            "type": "pie"
           }
          ],
          "scatter": [
           {
            "fillpattern": {
             "fillmode": "overlay",
             "size": 10,
             "solidity": 0.2
            },
            "type": "scatter"
           }
          ],
          "scatter3d": [
           {
            "line": {
             "colorbar": {
              "outlinewidth": 0,
              "ticks": ""
             }
            },
            "marker": {
             "colorbar": {
              "outlinewidth": 0,
              "ticks": ""
             }
            },
            "type": "scatter3d"
           }
          ],
          "scattercarpet": [
           {
            "marker": {
             "colorbar": {
              "outlinewidth": 0,
              "ticks": ""
             }
            },
            "type": "scattercarpet"
           }
          ],
          "scattergeo": [
           {
            "marker": {
             "colorbar": {
              "outlinewidth": 0,
              "ticks": ""
             }
            },
            "type": "scattergeo"
           }
          ],
          "scattergl": [
           {
            "marker": {
             "colorbar": {
              "outlinewidth": 0,
              "ticks": ""
             }
            },
            "type": "scattergl"
           }
          ],
          "scattermapbox": [
           {
            "marker": {
             "colorbar": {
              "outlinewidth": 0,
              "ticks": ""
             }
            },
            "type": "scattermapbox"
           }
          ],
          "scatterpolar": [
           {
            "marker": {
             "colorbar": {
              "outlinewidth": 0,
              "ticks": ""
             }
            },
            "type": "scatterpolar"
           }
          ],
          "scatterpolargl": [
           {
            "marker": {
             "colorbar": {
              "outlinewidth": 0,
              "ticks": ""
             }
            },
            "type": "scatterpolargl"
           }
          ],
          "scatterternary": [
           {
            "marker": {
             "colorbar": {
              "outlinewidth": 0,
              "ticks": ""
             }
            },
            "type": "scatterternary"
           }
          ],
          "surface": [
           {
            "colorbar": {
             "outlinewidth": 0,
             "ticks": ""
            },
            "colorscale": [
             [
              0,
              "#0d0887"
             ],
             [
              0.1111111111111111,
              "#46039f"
             ],
             [
              0.2222222222222222,
              "#7201a8"
             ],
             [
              0.3333333333333333,
              "#9c179e"
             ],
             [
              0.4444444444444444,
              "#bd3786"
             ],
             [
              0.5555555555555556,
              "#d8576b"
             ],
             [
              0.6666666666666666,
              "#ed7953"
             ],
             [
              0.7777777777777778,
              "#fb9f3a"
             ],
             [
              0.8888888888888888,
              "#fdca26"
             ],
             [
              1,
              "#f0f921"
             ]
            ],
            "type": "surface"
           }
          ],
          "table": [
           {
            "cells": {
             "fill": {
              "color": "#EBF0F8"
             },
             "line": {
              "color": "white"
             }
            },
            "header": {
             "fill": {
              "color": "#C8D4E3"
             },
             "line": {
              "color": "white"
             }
            },
            "type": "table"
           }
          ]
         },
         "layout": {
          "annotationdefaults": {
           "arrowcolor": "#2a3f5f",
           "arrowhead": 0,
           "arrowwidth": 1
          },
          "autotypenumbers": "strict",
          "coloraxis": {
           "colorbar": {
            "outlinewidth": 0,
            "ticks": ""
           }
          },
          "colorscale": {
           "diverging": [
            [
             0,
             "#8e0152"
            ],
            [
             0.1,
             "#c51b7d"
            ],
            [
             0.2,
             "#de77ae"
            ],
            [
             0.3,
             "#f1b6da"
            ],
            [
             0.4,
             "#fde0ef"
            ],
            [
             0.5,
             "#f7f7f7"
            ],
            [
             0.6,
             "#e6f5d0"
            ],
            [
             0.7,
             "#b8e186"
            ],
            [
             0.8,
             "#7fbc41"
            ],
            [
             0.9,
             "#4d9221"
            ],
            [
             1,
             "#276419"
            ]
           ],
           "sequential": [
            [
             0,
             "#0d0887"
            ],
            [
             0.1111111111111111,
             "#46039f"
            ],
            [
             0.2222222222222222,
             "#7201a8"
            ],
            [
             0.3333333333333333,
             "#9c179e"
            ],
            [
             0.4444444444444444,
             "#bd3786"
            ],
            [
             0.5555555555555556,
             "#d8576b"
            ],
            [
             0.6666666666666666,
             "#ed7953"
            ],
            [
             0.7777777777777778,
             "#fb9f3a"
            ],
            [
             0.8888888888888888,
             "#fdca26"
            ],
            [
             1,
             "#f0f921"
            ]
           ],
           "sequentialminus": [
            [
             0,
             "#0d0887"
            ],
            [
             0.1111111111111111,
             "#46039f"
            ],
            [
             0.2222222222222222,
             "#7201a8"
            ],
            [
             0.3333333333333333,
             "#9c179e"
            ],
            [
             0.4444444444444444,
             "#bd3786"
            ],
            [
             0.5555555555555556,
             "#d8576b"
            ],
            [
             0.6666666666666666,
             "#ed7953"
            ],
            [
             0.7777777777777778,
             "#fb9f3a"
            ],
            [
             0.8888888888888888,
             "#fdca26"
            ],
            [
             1,
             "#f0f921"
            ]
           ]
          },
          "colorway": [
           "#636efa",
           "#EF553B",
           "#00cc96",
           "#ab63fa",
           "#FFA15A",
           "#19d3f3",
           "#FF6692",
           "#B6E880",
           "#FF97FF",
           "#FECB52"
          ],
          "font": {
           "color": "#2a3f5f"
          },
          "geo": {
           "bgcolor": "white",
           "lakecolor": "white",
           "landcolor": "#E5ECF6",
           "showlakes": true,
           "showland": true,
           "subunitcolor": "white"
          },
          "hoverlabel": {
           "align": "left"
          },
          "hovermode": "closest",
          "mapbox": {
           "style": "light"
          },
          "paper_bgcolor": "white",
          "plot_bgcolor": "#E5ECF6",
          "polar": {
           "angularaxis": {
            "gridcolor": "white",
            "linecolor": "white",
            "ticks": ""
           },
           "bgcolor": "#E5ECF6",
           "radialaxis": {
            "gridcolor": "white",
            "linecolor": "white",
            "ticks": ""
           }
          },
          "scene": {
           "xaxis": {
            "backgroundcolor": "#E5ECF6",
            "gridcolor": "white",
            "gridwidth": 2,
            "linecolor": "white",
            "showbackground": true,
            "ticks": "",
            "zerolinecolor": "white"
           },
           "yaxis": {
            "backgroundcolor": "#E5ECF6",
            "gridcolor": "white",
            "gridwidth": 2,
            "linecolor": "white",
            "showbackground": true,
            "ticks": "",
            "zerolinecolor": "white"
           },
           "zaxis": {
            "backgroundcolor": "#E5ECF6",
            "gridcolor": "white",
            "gridwidth": 2,
            "linecolor": "white",
            "showbackground": true,
            "ticks": "",
            "zerolinecolor": "white"
           }
          },
          "shapedefaults": {
           "line": {
            "color": "#2a3f5f"
           }
          },
          "ternary": {
           "aaxis": {
            "gridcolor": "white",
            "linecolor": "white",
            "ticks": ""
           },
           "baxis": {
            "gridcolor": "white",
            "linecolor": "white",
            "ticks": ""
           },
           "bgcolor": "#E5ECF6",
           "caxis": {
            "gridcolor": "white",
            "linecolor": "white",
            "ticks": ""
           }
          },
          "title": {
           "x": 0.05
          },
          "xaxis": {
           "automargin": true,
           "gridcolor": "white",
           "linecolor": "white",
           "ticks": "",
           "title": {
            "standoff": 15
           },
           "zerolinecolor": "white",
           "zerolinewidth": 2
          },
          "yaxis": {
           "automargin": true,
           "gridcolor": "white",
           "linecolor": "white",
           "ticks": "",
           "title": {
            "standoff": 15
           },
           "zerolinecolor": "white",
           "zerolinewidth": 2
          }
         }
        },
        "title": {
         "text": "Top 20 Suppliers by Orders"
        },
        "xaxis": {
         "anchor": "y",
         "domain": [
          0,
          1
         ],
         "title": {
          "text": "orders"
         }
        },
        "yaxis": {
         "anchor": "x",
         "categoryorder": "total ascending",
         "domain": [
          0,
          1
         ],
         "title": {
          "text": "supplier_id"
         }
        }
       }
      }
     },
     "metadata": {},
     "output_type": "display_data"
    }
   ],
   "source": [
    "# Supplier patterns interactive: Top 20 suppliers by orders\n",
    "sup_summary = active.groupby('supplier_id').agg(orders=('order_id','count'), late_rate=('late_delivery','mean')).reset_index()\n",
    "if not sup_summary.empty:\n",
    "    fig = px.bar(sup_summary.sort_values('orders', ascending=False).head(20), x='orders', y='supplier_id', orientation='h', title='Top 20 Suppliers by Orders')\n",
    "    fig.update_layout(yaxis={'categoryorder':'total ascending'})\n",
    "    fig.show()\n"
   ]
  },
  {
   "cell_type": "code",
   "execution_count": 17,
   "id": "a8111ffe",
   "metadata": {},
   "outputs": [
    {
     "data": {
      "image/png": "[encoded data removed]",
      "text/plain": [
       "<Figure size 800x400 with 1 Axes>"
      ]
     },
     "metadata": {},
     "output_type": "display_data"
    }
   ],
   "source": [
    "# Ship mode analysis: orders and late rate by ship_mode\n",
    "if 'ship_mode' in active.columns:\n",
    "    ship = active.groupby('ship_mode').agg(orders=('order_id','count'), late_rate=('late_delivery','mean')).reset_index().sort_values('orders', ascending=False)\n",
    "    plt.figure(figsize=(8,4))\n",
    "    sns.barplot(data=ship, x='orders', y='ship_mode')\n",
    "    plt.title('Orders by Ship Mode')\n",
    "    plt.tight_layout()\n",
    "    plt.show()\n",
    "\n",
    "else:\n",
    "    print(\"ship_mode not present in purchase_orders; skipping ship mode plots.\")\n"
   ]
  },
  {
   "cell_type": "code",
   "execution_count": 18,
   "id": "fda3be9b",
   "metadata": {},
   "outputs": [
    {
     "data": {
      "image/png": "[encoded data removed]",
      "text/plain": [
       "<Figure size 1000x500 with 1 Axes>"
      ]
     },
     "metadata": {},
     "output_type": "display_data"
    }
   ],
   "source": [
    "# Ship Mode patterns: Late rate per mode\n",
    "\n",
    "# Consider only non-cancelled orders\n",
    "active_orders = po[po['cancelled'] == 0].copy()\n",
    "\n",
    "# Ensure ship_mode is string/categorical\n",
    "active_orders['ship_mode'] = active_orders['ship_mode'].astype(str)\n",
    "\n",
    "# Aggregate by ship mode\n",
    "ship_summary = (\n",
    "    active_orders.groupby('ship_mode')\n",
    "    .agg(\n",
    "        orders=('order_id', 'count'),\n",
    "        late_rate=('late_delivery', 'mean')\n",
    "    )\n",
    "    .reset_index()\n",
    "    .sort_values('late_rate', ascending=False)\n",
    ")\n",
    "\n",
    "# Plot horizontal bar chart\n",
    "plt.figure(figsize=(10,5))\n",
    "sns.barplot(\n",
    "    data=ship_summary,\n",
    "    x='late_rate',\n",
    "    y='ship_mode',\n",
    "    palette='magma'\n",
    ")\n",
    "plt.title('Late Rate by Ship Mode')\n",
    "plt.xlabel('Late Rate')\n",
    "plt.ylabel('Ship Mode')\n",
    "plt.xlim(0, 1)\n",
    "plt.tight_layout()\n",
    "plt.show()\n"
   ]
  },
  {
   "cell_type": "code",
   "execution_count": 19,
   "id": "71c2c0cc",
   "metadata": {},
   "outputs": [
    {
     "data": {
      "image/png": "[encoded data removed]",
      "text/plain": [
       "<Figure size 1000x400 with 1 Axes>"
      ]
     },
     "metadata": {},
     "output_type": "display_data"
    }
   ],
   "source": [
    "# Distance bands (fix cut + 'missing' bucket) and visualization\n",
    "if 'distance_km' in active.columns:\n",
    "    bins = [0,50,200,500,1000,5000, np.inf]\n",
    "    labels = ['0-50','51-200','201-500','501-1000','1001-5000','5000+']\n",
    "    active['dist_band'] = pd.cut(active['distance_km'], bins=bins, labels=labels, include_lowest=True)\n",
    "    active['dist_band'] = active['dist_band'].cat.add_categories('missing')\n",
    "    active.loc[active['distance_km'].isna(), 'dist_band'] = 'missing'\n",
    "\n",
    "    dist = active.groupby('dist_band').agg(orders=('order_id','count'), late_rate=('late_delivery','mean')).reset_index()\n",
    "    plt.figure(figsize=(10,4))\n",
    "    sns.barplot(data=dist, x='dist_band', y='orders')\n",
    "    plt.title('Orders by Distance Band')\n",
    "    plt.xlabel('Distance band (km)')\n",
    "    plt.tight_layout()\n",
    "    plt.show()\n",
    "else:\n",
    "    print(\"distance_km not found in purchase_orders; skipping distance band analysis.\")\n"
   ]
  },
  {
   "cell_type": "code",
   "execution_count": 20,
   "id": "5188929c",
   "metadata": {},
   "outputs": [
    {
     "data": {
      "image/png": "[encoded data removed]",
      "text/plain": [
       "<Figure size 1000x400 with 1 Axes>"
      ]
     },
     "metadata": {},
     "output_type": "display_data"
    }
   ],
   "source": [
    "# Late rate by distance band\n",
    "\n",
    "# Plot\n",
    "plt.figure(figsize=(10,4))\n",
    "sns.barplot(data=dist, x='dist_band', y='late_rate', palette='coolwarm')\n",
    "plt.title('Late Rate by Distance Band')\n",
    "plt.xlabel('Distance Band (km)')\n",
    "plt.ylabel('Late Rate')\n",
    "plt.tight_layout()\n",
    "plt.show()\n"
   ]
  },
  {
   "cell_type": "code",
   "execution_count": 21,
   "id": "af2392e9",
   "metadata": {},
   "outputs": [
    {
     "data": {
      "image/png": "[encoded data removed]",
      "text/plain": [
       "<Figure size 1000x400 with 1 Axes>"
      ]
     },
     "metadata": {},
     "output_type": "display_data"
    }
   ],
   "source": [
    "# SKU-level: top 10 SKUs by order count and their late rate\n",
    "if 'sku' in active.columns:\n",
    "    sku_summary = active.groupby('sku').agg(orders=('order_id','count'), late_rate=('late_delivery','mean')).reset_index().sort_values('orders', ascending=False)\n",
    "    top10_skus = sku_summary.head(10)\n",
    "    plt.figure(figsize=(10,4))\n",
    "    sns.barplot(data=top10_skus, x='orders', y='sku')\n",
    "    plt.title('Top 10 SKUs by Orders')\n",
    "    plt.tight_layout()\n",
    "    plt.show()\n",
    "else:\n",
    "    print(\"sku not present; skipping SKU-level plots.\")\n"
   ]
  },
  {
   "cell_type": "code",
   "execution_count": 22,
   "id": "924f2468",
   "metadata": {},
   "outputs": [
    {
     "name": "stdout",
     "output_type": "stream",
     "text": [
      "Orders matched by strict price window: 1871 of 4307\n",
      "Orders matched by fallback (most recent prior price): 1872\n",
      "Final matched orders: 1872\n",
      "Remaining unmatched orders: 2435\n"
     ]
    }
   ],
   "source": [
    "# Price join\n",
    "if {'supplier_id','sku','order_date'}.issubset(po.columns) and {'supplier_id','sku','valid_from','valid_to'}.issubset(prices.columns):\n",
    "    expanded = po.merge(prices, on=['supplier_id','sku'], how='left', suffixes=('','_price'))\n",
    "\n",
    "    # strict window match\n",
    "    mask = (expanded['order_date'] >= expanded['valid_from']) & (expanded['order_date'] <= expanded['valid_to'])\n",
    "    matched = expanded[mask].copy()\n",
    "    print(\"Orders matched by strict price window:\", matched['order_id'].nunique(), \"of\", po['order_id'].nunique())\n",
    "\n",
    "    # fallback prior price\n",
    "    fallback = po.merge(prices, on=['supplier_id','sku'], how='left')\n",
    "    fallback = fallback[fallback['valid_from'] <= fallback['order_date']]\n",
    "    fallback = fallback.sort_values(['order_id','valid_from']).groupby('order_id').tail(1)\n",
    "    print(\"Orders matched by fallback (most recent prior price):\", fallback['order_id'].nunique())\n",
    "\n",
    "    # combine results\n",
    "    order_price = pd.concat([matched, fallback]).drop_duplicates(subset='order_id', keep='first')\n",
    "\n",
    "    # sanity check\n",
    "    print(\"Final matched orders:\", order_price['order_id'].nunique())\n",
    "    print(\"Remaining unmatched orders:\", po['order_id'].nunique() - order_price['order_id'].nunique())\n",
    "\n",
    "else:\n",
    "    print(\"Required columns for price join missing; skipping strict price join.\")\n",
    "    matched = pd.DataFrame()\n",
    "    fallback = pd.DataFrame()\n",
    "    order_price = po.copy()  # fallback: just copy original\n"
   ]
  },
  {
   "cell_type": "code",
   "execution_count": 23,
   "id": "bdcb93f4",
   "metadata": {},
   "outputs": [
    {
     "name": "stdout",
     "output_type": "stream",
     "text": [
      "40 unmatched SKUs\n",
      "20 unmatched suppliers\n"
     ]
    }
   ],
   "source": [
    "# Check unmatched SKUs and suppliers\n",
    "unmatched_orders = po[~po['order_id'].isin(matched['order_id']) & ~po['order_id'].isin(fallback['order_id'])]\n",
    "print(unmatched_orders['sku'].nunique(), \"unmatched SKUs\")\n",
    "print(unmatched_orders['supplier_id'].nunique(), \"unmatched suppliers\")"
   ]
  },
  {
   "cell_type": "code",
   "execution_count": 24,
   "id": "c12fb17c",
   "metadata": {},
   "outputs": [
    {
     "name": "stdout",
     "output_type": "stream",
     "text": [
      "supplier_id\n",
      "2     173\n",
      "20    163\n",
      "12    146\n",
      "14    145\n",
      "11    143\n",
      "1     141\n",
      "10    134\n",
      "8     131\n",
      "18    125\n",
      "4     124\n",
      "Name: count, dtype: int64\n",
      "sku\n",
      "SKU00010    85\n",
      "SKU00014    82\n",
      "SKU00030    81\n",
      "SKU00015    79\n",
      "SKU00040    78\n",
      "SKU00031    73\n",
      "SKU00039    73\n",
      "SKU00037    72\n",
      "SKU00006    69\n",
      "SKU00035    69\n",
      "Name: count, dtype: int64\n"
     ]
    }
   ],
   "source": [
    "# Check which suppliers / SKUs are driving those 2,435 unmatched orders\n",
    "print(unmatched_orders['supplier_id'].value_counts().head(10))\n",
    "print(unmatched_orders['sku'].value_counts().head(10))"
   ]
  },
  {
   "cell_type": "code",
   "execution_count": 25,
   "id": "5730569a",
   "metadata": {},
   "outputs": [
    {
     "name": "stdout",
     "output_type": "stream",
     "text": [
      "Orders matched by strict price window: 1871 of 4307 (43.4%)\n",
      "Orders matched by fallback (most recent prior price): 1872 of 4307 (43.5%)\n",
      "Remaining unmatched orders: 2435 of 4307 (56.5%)\n",
      "\n",
      "Sample of unmatched orders:\n",
      "   order_id order_date  supplier_id       sku  qty  unit_price currency  \\\n",
      "0         1 2024-01-01            8  SKU00038   15       11.81      EUR   \n",
      "1         2 2024-01-01            1  SKU00020   25       22.43      EUR   \n",
      "2         3 2024-01-01           17  SKU00023   39        7.50      EUR   \n",
      "3         4 2024-01-01           16  SKU00005   44       10.65      EUR   \n",
      "4         5 2024-01-02            6  SKU00027   32        8.11      EUR   \n",
      "\n",
      "  ship_mode incoterm payment_terms  distance_km promised_date  urgent  \\\n",
      "0       sea      FOB         NET30          748    2024-01-29       0   \n",
      "1      road      EXW         NET30         1188    2024-01-05       0   \n",
      "2      rail      DAP         NET60          857    2024-01-07       0   \n",
      "3       sea      CIF         NET30          729    2024-01-14       0   \n",
      "4      rail      DAP         NET30          205    2024-02-01       0   \n",
      "\n",
      "  order_notes actual_delivery_date  late_delivery  delay_days  \\\n",
      "0         NaN           2024-01-31              1           2   \n",
      "1         NaN           2024-01-06              1           1   \n",
      "2         NaN           2024-01-10              1           3   \n",
      "3         NaN           2024-01-17              1           3   \n",
      "4         NaN           2024-01-31              0          -1   \n",
      "\n",
      "   partial_delivery  cancelled delay_reason          name country  preferred  \\\n",
      "0                 0          0         none  Supplier 008      FR       True   \n",
      "1                 0          0         none  Supplier 001      US       True   \n",
      "2                 0          0         none  Supplier 017      PL      False   \n",
      "3                 0          0         none  Supplier 016      IT       True   \n",
      "4                 0          0         none  Supplier 006      IN      False   \n",
      "\n",
      "   rating  base_lead_time_days  on_time_bias name_product  uom hazard_class  \\\n",
      "0     3.1                   27         0.192  Product 038   kg         none   \n",
      "1     4.0                    7         0.160  Product 020   kg    flammable   \n",
      "2     3.0                    5        -0.122  Product 023  pcs    corrosive   \n",
      "3     3.0                   14         0.033  Product 005    L         none   \n",
      "4     2.6                   30        -0.028  Product 027  pcs    corrosive   \n",
      "\n",
      "   base_price_eur year_month  \n",
      "0           12.02 2024-01-01  \n",
      "1           23.19 2024-01-01  \n",
      "2            7.00 2024-01-01  \n",
      "3           11.02 2024-01-01  \n",
      "4            8.86 2024-01-01  \n"
     ]
    }
   ],
   "source": [
    "# Price Matching Summary & Cleaning (in-memory)\n",
    "\n",
    "total_orders = len(po)\n",
    "\n",
    "strict_matched = 1871   # from merge_asof (strict price window)\n",
    "fallback_matched = 1872 # from fallback (prior available price)\n",
    "unmatched_count = total_orders - fallback_matched\n",
    "\n",
    "print(f\"Orders matched by strict price window: {strict_matched} of {total_orders} \"\n",
    "      f\"({strict_matched/total_orders:.1%})\")\n",
    "print(f\"Orders matched by fallback (most recent prior price): {fallback_matched} of {total_orders} \"\n",
    "      f\"({fallback_matched/total_orders:.1%})\")\n",
    "print(f\"Remaining unmatched orders: {unmatched_count} of {total_orders} \"\n",
    "      f\"({unmatched_count/total_orders:.1%})\")\n",
    "\n",
    "# Keep unmatched orders in a DataFrame for analysis\n",
    "unmatched_orders = po.loc[~po['order_id'].isin(matched['order_id'])]\n",
    "print(\"\\nSample of unmatched orders:\")\n",
    "print(unmatched_orders.head())\n"
   ]
  },
  {
   "cell_type": "code",
   "execution_count": 26,
   "id": "c5c2f116",
   "metadata": {},
   "outputs": [
    {
     "data": {
      "image/png": "[encoded data removed]",
      "text/plain": [
       "<Figure size 1000x500 with 1 Axes>"
      ]
     },
     "metadata": {},
     "output_type": "display_data"
    }
   ],
   "source": [
    "# Delivery delay distribution ('delay_days' from deliveries)\n",
    "if 'delay_days' in po.columns:\n",
    "    # Only consider non-cancelled orders with valid delay_days\n",
    "    valid_delays = po[(po['cancelled'] == 0) & po['delay_days'].notna()]\n",
    "\n",
    "    if not valid_delays.empty:\n",
    "        plt.figure(figsize=(10,5))\n",
    "        sns.histplot(valid_delays['delay_days'], bins=60, kde=False, color='skyblue')\n",
    "        plt.title('Distribution of Delivery Delay Days')\n",
    "        plt.xlabel('delay_days')\n",
    "        # Limit x-axis to 1st and 99th percentile to avoid extreme outliers\n",
    "        q1, q99 = valid_delays['delay_days'].quantile([0.01, 0.99])\n",
    "        plt.xlim(q1-5, q99+5)\n",
    "        plt.tight_layout()\n",
    "        plt.show()\n",
    "    else:\n",
    "        print(\"No valid delay_days to plot; all rows cancelled or missing.\")\n",
    "else:\n",
    "    print(\"delay_days not present in data; skipping histogram.\")\n"
   ]
  },
  {
   "cell_type": "code",
   "execution_count": 27,
   "id": "dad184a2",
   "metadata": {},
   "outputs": [
    {
     "data": {
      "application/vnd.plotly.v1+json": {
       "config": {
        "plotlyServerURL": "https://plot.ly"
       },
       "data": [
        {
         "alignmentgroup": "True",
         "hovertemplate": "orders=%{text}<br>country=%{y}<extra></extra>",
         "legendgroup": "",
         "marker": {
          "color": "#636efa",
          "pattern": {
           "shape": ""
          }
         },
         "name": "",
         "offsetgroup": "",
         "orientation": "h",
         "showlegend": false,
         "text": [
          865,
          672,
          636,
          443,
          440,
          415,
          219,
          218,
          208,
          191
         ],
         "textposition": "auto",
         "type": "bar",
         "x": [
          865,
          672,
          636,
          443,
          440,
          415,
          219,
          218,
          208,
          191
         ],
         "xaxis": "x",
         "y": [
          "PL",
          "IT",
          "IN",
          "NL",
          "CN",
          "CZ",
          "US",
          "DE",
          "FR",
          "UK"
         ],
         "yaxis": "y"
        }
       ],
       "layout": {
        "barmode": "relative",
        "legend": {
         "tracegroupgap": 0
        },
        "template": {
         "data": {
          "bar": [
           {
            "error_x": {
             "color": "#2a3f5f"
            },
            "error_y": {
             "color": "#2a3f5f"
            },
            "marker": {
             "line": {
              "color": "#E5ECF6",
              "width": 0.5
             },
             "pattern": {
              "fillmode": "overlay",
              "size": 10,
              "solidity": 0.2
             }
            },
            "type": "bar"
           }
          ],
          "barpolar": [
           {
            "marker": {
             "line": {
              "color": "#E5ECF6",
              "width": 0.5
             },
             "pattern": {
              "fillmode": "overlay",
              "size": 10,
              "solidity": 0.2
             }
            },
            "type": "barpolar"
           }
          ],
          "carpet": [
           {
            "aaxis": {
             "endlinecolor": "#2a3f5f",
             "gridcolor": "white",
             "linecolor": "white",
             "minorgridcolor": "white",
             "startlinecolor": "#2a3f5f"
            },
            "baxis": {
             "endlinecolor": "#2a3f5f",
             "gridcolor": "white",
             "linecolor": "white",
             "minorgridcolor": "white",
             "startlinecolor": "#2a3f5f"
            },
            "type": "carpet"
           }
          ],
          "choropleth": [
           {
            "colorbar": {
             "outlinewidth": 0,
             "ticks": ""
            },
            "type": "choropleth"
           }
          ],
          "contour": [
           {
            "colorbar": {
             "outlinewidth": 0,
             "ticks": ""
            },
            "colorscale": [
             [
              0,
              "#0d0887"
             ],
             [
              0.1111111111111111,
              "#46039f"
             ],
             [
              0.2222222222222222,
              "#7201a8"
             ],
             [
              0.3333333333333333,
              "#9c179e"
             ],
             [
              0.4444444444444444,
              "#bd3786"
             ],
             [
              0.5555555555555556,
              "#d8576b"
             ],
             [
              0.6666666666666666,
              "#ed7953"
             ],
             [
              0.7777777777777778,
              "#fb9f3a"
             ],
             [
              0.8888888888888888,
              "#fdca26"
             ],
             [
              1,
              "#f0f921"
             ]
            ],
            "type": "contour"
           }
          ],
          "contourcarpet": [
           {
            "colorbar": {
             "outlinewidth": 0,
             "ticks": ""
            },
            "type": "contourcarpet"
           }
          ],
          "heatmap": [
           {
            "colorbar": {
             "outlinewidth": 0,
             "ticks": ""
            },
            "colorscale": [
             [
              0,
              "#0d0887"
             ],
             [
              0.1111111111111111,
              "#46039f"
             ],
             [
              0.2222222222222222,
              "#7201a8"
             ],
             [
              0.3333333333333333,
              "#9c179e"
             ],
             [
              0.4444444444444444,
              "#bd3786"
             ],
             [
              0.5555555555555556,
              "#d8576b"
             ],
             [
              0.6666666666666666,
              "#ed7953"
             ],
             [
              0.7777777777777778,
              "#fb9f3a"
             ],
             [
              0.8888888888888888,
              "#fdca26"
             ],
             [
              1,
              "#f0f921"
             ]
            ],
            "type": "heatmap"
           }
          ],
          "heatmapgl": [
           {
            "colorbar": {
             "outlinewidth": 0,
             "ticks": ""
            },
            "colorscale": [
             [
              0,
              "#0d0887"
             ],
             [
              0.1111111111111111,
              "#46039f"
             ],
             [
              0.2222222222222222,
              "#7201a8"
             ],
             [
              0.3333333333333333,
              "#9c179e"
             ],
             [
              0.4444444444444444,
              "#bd3786"
             ],
             [
              0.5555555555555556,
              "#d8576b"
             ],
             [
              0.6666666666666666,
              "#ed7953"
             ],
             [
              0.7777777777777778,
              "#fb9f3a"
             ],
             [
              0.8888888888888888,
              "#fdca26"
             ],
             [
              1,
              "#f0f921"
             ]
            ],
            "type": "heatmapgl"
           }
          ],
          "histogram": [
           {
            "marker": {
             "pattern": {
              "fillmode": "overlay",
              "size": 10,
              "solidity": 0.2
             }
            },
            "type": "histogram"
           }
          ],
          "histogram2d": [
           {
            "colorbar": {
             "outlinewidth": 0,
             "ticks": ""
            },
            "colorscale": [
             [
              0,
              "#0d0887"
             ],
             [
              0.1111111111111111,
              "#46039f"
             ],
             [
              0.2222222222222222,
              "#7201a8"
             ],
             [
              0.3333333333333333,
              "#9c179e"
             ],
             [
              0.4444444444444444,
              "#bd3786"
             ],
             [
              0.5555555555555556,
              "#d8576b"
             ],
             [
              0.6666666666666666,
              "#ed7953"
             ],
             [
              0.7777777777777778,
              "#fb9f3a"
             ],
             [
              0.8888888888888888,
              "#fdca26"
             ],
             [
              1,
              "#f0f921"
             ]
            ],
            "type": "histogram2d"
           }
          ],
          "histogram2dcontour": [
           {
            "colorbar": {
             "outlinewidth": 0,
             "ticks": ""
            },
            "colorscale": [
             [
              0,
              "#0d0887"
             ],
             [
              0.1111111111111111,
              "#46039f"
             ],
             [
              0.2222222222222222,
              "#7201a8"
             ],
             [
              0.3333333333333333,
              "#9c179e"
             ],
             [
              0.4444444444444444,
              "#bd3786"
             ],
             [
              0.5555555555555556,
              "#d8576b"
             ],
             [
              0.6666666666666666,
              "#ed7953"
             ],
             [
              0.7777777777777778,
              "#fb9f3a"
             ],
             [
              0.8888888888888888,
              "#fdca26"
             ],
             [
              1,
              "#f0f921"
             ]
            ],
            "type": "histogram2dcontour"
           }
          ],
          "mesh3d": [
           {
            "colorbar": {
             "outlinewidth": 0,
             "ticks": ""
            },
            "type": "mesh3d"
           }
          ],
          "parcoords": [
           {
            "line": {
             "colorbar": {
              "outlinewidth": 0,
              "ticks": ""
             }
            },
            "type": "parcoords"
           }
          ],
          "pie": [
           {
            "automargin": true,
            "type": "pie"
           }
          ],
          "scatter": [
           {
            "fillpattern": {
             "fillmode": "overlay",
             "size": 10,
             "solidity": 0.2
            },
            "type": "scatter"
           }
          ],
          "scatter3d": [
           {
            "line": {
             "colorbar": {
              "outlinewidth": 0,
              "ticks": ""
             }
            },
            "marker": {
             "colorbar": {
              "outlinewidth": 0,
              "ticks": ""
             }
            },
            "type": "scatter3d"
           }
          ],
          "scattercarpet": [
           {
            "marker": {
             "colorbar": {
              "outlinewidth": 0,
              "ticks": ""
             }
            },
            "type": "scattercarpet"
           }
          ],
          "scattergeo": [
           {
            "marker": {
             "colorbar": {
              "outlinewidth": 0,
              "ticks": ""
             }
            },
            "type": "scattergeo"
           }
          ],
          "scattergl": [
           {
            "marker": {
             "colorbar": {
              "outlinewidth": 0,
              "ticks": ""
             }
            },
            "type": "scattergl"
           }
          ],
          "scattermapbox": [
           {
            "marker": {
             "colorbar": {
              "outlinewidth": 0,
              "ticks": ""
             }
            },
            "type": "scattermapbox"
           }
          ],
          "scatterpolar": [
           {
            "marker": {
             "colorbar": {
              "outlinewidth": 0,
              "ticks": ""
             }
            },
            "type": "scatterpolar"
           }
          ],
          "scatterpolargl": [
           {
            "marker": {
             "colorbar": {
              "outlinewidth": 0,
              "ticks": ""
             }
            },
            "type": "scatterpolargl"
           }
          ],
          "scatterternary": [
           {
            "marker": {
             "colorbar": {
              "outlinewidth": 0,
              "ticks": ""
             }
            },
            "type": "scatterternary"
           }
          ],
          "surface": [
           {
            "colorbar": {
             "outlinewidth": 0,
             "ticks": ""
            },
            "colorscale": [
             [
              0,
              "#0d0887"
             ],
             [
              0.1111111111111111,
              "#46039f"
             ],
             [
              0.2222222222222222,
              "#7201a8"
             ],
             [
              0.3333333333333333,
              "#9c179e"
             ],
             [
              0.4444444444444444,
              "#bd3786"
             ],
             [
              0.5555555555555556,
              "#d8576b"
             ],
             [
              0.6666666666666666,
              "#ed7953"
             ],
             [
              0.7777777777777778,
              "#fb9f3a"
             ],
             [
              0.8888888888888888,
              "#fdca26"
             ],
             [
              1,
              "#f0f921"
             ]
            ],
            "type": "surface"
           }
          ],
          "table": [
           {
            "cells": {
             "fill": {
              "color": "#EBF0F8"
             },
             "line": {
              "color": "white"
             }
            },
            "header": {
             "fill": {
              "color": "#C8D4E3"
             },
             "line": {
              "color": "white"
             }
            },
            "type": "table"
           }
          ]
         },
         "layout": {
          "annotationdefaults": {
           "arrowcolor": "#2a3f5f",
           "arrowhead": 0,
           "arrowwidth": 1
          },
          "autotypenumbers": "strict",
          "coloraxis": {
           "colorbar": {
            "outlinewidth": 0,
            "ticks": ""
           }
          },
          "colorscale": {
           "diverging": [
            [
             0,
             "#8e0152"
            ],
            [
             0.1,
             "#c51b7d"
            ],
            [
             0.2,
             "#de77ae"
            ],
            [
             0.3,
             "#f1b6da"
            ],
            [
             0.4,
             "#fde0ef"
            ],
            [
             0.5,
             "#f7f7f7"
            ],
            [
             0.6,
             "#e6f5d0"
            ],
            [
             0.7,
             "#b8e186"
            ],
            [
             0.8,
             "#7fbc41"
            ],
            [
             0.9,
             "#4d9221"
            ],
            [
             1,
             "#276419"
            ]
           ],
           "sequential": [
            [
             0,
             "#0d0887"
            ],
            [
             0.1111111111111111,
             "#46039f"
            ],
            [
             0.2222222222222222,
             "#7201a8"
            ],
            [
             0.3333333333333333,
             "#9c179e"
            ],
            [
             0.4444444444444444,
             "#bd3786"
            ],
            [
             0.5555555555555556,
             "#d8576b"
            ],
            [
             0.6666666666666666,
             "#ed7953"
            ],
            [
             0.7777777777777778,
             "#fb9f3a"
            ],
            [
             0.8888888888888888,
             "#fdca26"
            ],
            [
             1,
             "#f0f921"
            ]
           ],
           "sequentialminus": [
            [
             0,
             "#0d0887"
            ],
            [
             0.1111111111111111,
             "#46039f"
            ],
            [
             0.2222222222222222,
             "#7201a8"
            ],
            [
             0.3333333333333333,
             "#9c179e"
            ],
            [
             0.4444444444444444,
             "#bd3786"
            ],
            [
             0.5555555555555556,
             "#d8576b"
            ],
            [
             0.6666666666666666,
             "#ed7953"
            ],
            [
             0.7777777777777778,
             "#fb9f3a"
            ],
            [
             0.8888888888888888,
             "#fdca26"
            ],
            [
             1,
             "#f0f921"
            ]
           ]
          },
          "colorway": [
           "#636efa",
           "#EF553B",
           "#00cc96",
           "#ab63fa",
           "#FFA15A",
           "#19d3f3",
           "#FF6692",
           "#B6E880",
           "#FF97FF",
           "#FECB52"
          ],
          "font": {
           "color": "#2a3f5f"
          },
          "geo": {
           "bgcolor": "white",
           "lakecolor": "white",
           "landcolor": "#E5ECF6",
           "showlakes": true,
           "showland": true,
           "subunitcolor": "white"
          },
          "hoverlabel": {
           "align": "left"
          },
          "hovermode": "closest",
          "mapbox": {
           "style": "light"
          },
          "paper_bgcolor": "white",
          "plot_bgcolor": "#E5ECF6",
          "polar": {
           "angularaxis": {
            "gridcolor": "white",
            "linecolor": "white",
            "ticks": ""
           },
           "bgcolor": "#E5ECF6",
           "radialaxis": {
            "gridcolor": "white",
            "linecolor": "white",
            "ticks": ""
           }
          },
          "scene": {
           "xaxis": {
            "backgroundcolor": "#E5ECF6",
            "gridcolor": "white",
            "gridwidth": 2,
            "linecolor": "white",
            "showbackground": true,
            "ticks": "",
            "zerolinecolor": "white"
           },
           "yaxis": {
            "backgroundcolor": "#E5ECF6",
            "gridcolor": "white",
            "gridwidth": 2,
            "linecolor": "white",
            "showbackground": true,
            "ticks": "",
            "zerolinecolor": "white"
           },
           "zaxis": {
            "backgroundcolor": "#E5ECF6",
            "gridcolor": "white",
            "gridwidth": 2,
            "linecolor": "white",
            "showbackground": true,
            "ticks": "",
            "zerolinecolor": "white"
           }
          },
          "shapedefaults": {
           "line": {
            "color": "#2a3f5f"
           }
          },
          "ternary": {
           "aaxis": {
            "gridcolor": "white",
            "linecolor": "white",
            "ticks": ""
           },
           "baxis": {
            "gridcolor": "white",
            "linecolor": "white",
            "ticks": ""
           },
           "bgcolor": "#E5ECF6",
           "caxis": {
            "gridcolor": "white",
            "linecolor": "white",
            "ticks": ""
           }
          },
          "title": {
           "x": 0.05
          },
          "xaxis": {
           "automargin": true,
           "gridcolor": "white",
           "linecolor": "white",
           "ticks": "",
           "title": {
            "standoff": 15
           },
           "zerolinecolor": "white",
           "zerolinewidth": 2
          },
          "yaxis": {
           "automargin": true,
           "gridcolor": "white",
           "linecolor": "white",
           "ticks": "",
           "title": {
            "standoff": 15
           },
           "zerolinecolor": "white",
           "zerolinewidth": 2
          }
         }
        },
        "title": {
         "text": "Top Supplier Countries by Orders (Interactive)"
        },
        "xaxis": {
         "anchor": "y",
         "domain": [
          0,
          1
         ],
         "title": {
          "text": "orders"
         }
        },
        "yaxis": {
         "anchor": "x",
         "categoryorder": "total ascending",
         "domain": [
          0,
          1
         ],
         "title": {
          "text": "country"
         }
        }
       }
      }
     },
     "metadata": {},
     "output_type": "display_data"
    }
   ],
   "source": [
    "# Interactive bar by supplier country\n",
    "\n",
    "# Consider only non-cancelled orders\n",
    "active_orders = po[po['cancelled'] == 0].copy()\n",
    "\n",
    "# Aggregate order counts by country\n",
    "country_counts = (\n",
    "    active_orders.groupby('country')\n",
    "    .size()\n",
    "    .reset_index(name='orders')\n",
    "    .sort_values('orders', ascending=False)\n",
    ")\n",
    "\n",
    "# Plot top 20 countries\n",
    "fig = px.bar(\n",
    "    country_counts.head(20),\n",
    "    x='orders',\n",
    "    y='country',\n",
    "    orientation='h',\n",
    "    title='Top Supplier Countries by Orders (Interactive)',\n",
    "    text='orders'\n",
    ")\n",
    "fig.update_layout(yaxis={'categoryorder':'total ascending'})\n",
    "fig.show()\n"
   ]
  },
  {
   "cell_type": "code",
   "execution_count": 28,
   "id": "7d349e98",
   "metadata": {},
   "outputs": [
    {
     "data": {
      "image/png": "[encoded data removed]",
      "text/plain": [
       "<Figure size 800x500 with 1 Axes>"
      ]
     },
     "metadata": {},
     "output_type": "display_data"
    }
   ],
   "source": [
    "# Simple correlation / sanity between qty and unit_price (scatter) for exploratory check\n",
    "if {'qty','unit_price'}.issubset(po.columns):\n",
    "    plt.figure(figsize=(8,5))\n",
    "    sns.scatterplot(data=po.sample(n=min(1000,len(po)), random_state=RANDOM_SEED), x='qty', y='unit_price', alpha=0.6)\n",
    "    plt.title('Scatter: qty vs unit_price (sample)')\n",
    "    plt.xlim(left=0)\n",
    "    plt.ylim(bottom=0)\n",
    "    plt.tight_layout()\n",
    "    plt.show()\n",
    "else:\n",
    "    print(\"qty or unit_price missing; skipping qty vs unit_price scatter.\")\n"
   ]
  },
  {
   "cell_type": "code",
   "execution_count": 29,
   "id": "5f50ba73",
   "metadata": {},
   "outputs": [
    {
     "data": {
      "text/html": [
       "<div>\n",
       "<style scoped>\n",
       "    .dataframe tbody tr th:only-of-type {\n",
       "        vertical-align: middle;\n",
       "    }\n",
       "\n",
       "    .dataframe tbody tr th {\n",
       "        vertical-align: top;\n",
       "    }\n",
       "\n",
       "    .dataframe thead th {\n",
       "        text-align: right;\n",
       "    }\n",
       "</style>\n",
       "<table border=\"1\" class=\"dataframe\">\n",
       "  <thead>\n",
       "    <tr style=\"text-align: right;\">\n",
       "      <th></th>\n",
       "      <th>Column</th>\n",
       "      <th>Risk</th>\n",
       "      <th>Mitigation</th>\n",
       "    </tr>\n",
       "  </thead>\n",
       "  <tbody>\n",
       "    <tr>\n",
       "      <th>0</th>\n",
       "      <td>order_id</td>\n",
       "      <td>Safe feature candidate</td>\n",
       "      <td>Can be used as model input if relevant</td>\n",
       "    </tr>\n",
       "    <tr>\n",
       "      <th>1</th>\n",
       "      <td>order_date</td>\n",
       "      <td>Safe feature candidate</td>\n",
       "      <td>Can be used as model input if relevant</td>\n",
       "    </tr>\n",
       "    <tr>\n",
       "      <th>2</th>\n",
       "      <td>supplier_id</td>\n",
       "      <td>Safe feature candidate</td>\n",
       "      <td>Can be used as model input if relevant</td>\n",
       "    </tr>\n",
       "    <tr>\n",
       "      <th>3</th>\n",
       "      <td>sku</td>\n",
       "      <td>Safe feature candidate</td>\n",
       "      <td>Can be used as model input if relevant</td>\n",
       "    </tr>\n",
       "    <tr>\n",
       "      <th>4</th>\n",
       "      <td>qty</td>\n",
       "      <td>Safe feature candidate</td>\n",
       "      <td>Can be used as model input if relevant</td>\n",
       "    </tr>\n",
       "    <tr>\n",
       "      <th>5</th>\n",
       "      <td>unit_price</td>\n",
       "      <td>Potential leakage (future info)</td>\n",
       "      <td>Use only values known at order_date; avoid fut...</td>\n",
       "    </tr>\n",
       "    <tr>\n",
       "      <th>6</th>\n",
       "      <td>currency</td>\n",
       "      <td>Safe feature candidate</td>\n",
       "      <td>Can be used as model input if relevant</td>\n",
       "    </tr>\n",
       "    <tr>\n",
       "      <th>7</th>\n",
       "      <td>ship_mode</td>\n",
       "      <td>Safe feature candidate</td>\n",
       "      <td>Can be used as model input if relevant</td>\n",
       "    </tr>\n",
       "    <tr>\n",
       "      <th>8</th>\n",
       "      <td>incoterm</td>\n",
       "      <td>Safe feature candidate</td>\n",
       "      <td>Can be used as model input if relevant</td>\n",
       "    </tr>\n",
       "    <tr>\n",
       "      <th>9</th>\n",
       "      <td>payment_terms</td>\n",
       "      <td>Safe feature candidate</td>\n",
       "      <td>Can be used as model input if relevant</td>\n",
       "    </tr>\n",
       "    <tr>\n",
       "      <th>10</th>\n",
       "      <td>distance_km</td>\n",
       "      <td>Safe feature candidate</td>\n",
       "      <td>Can be used as model input if relevant</td>\n",
       "    </tr>\n",
       "    <tr>\n",
       "      <th>11</th>\n",
       "      <td>promised_date</td>\n",
       "      <td>Safe feature candidate</td>\n",
       "      <td>Can be used as model input if relevant</td>\n",
       "    </tr>\n",
       "    <tr>\n",
       "      <th>12</th>\n",
       "      <td>urgent</td>\n",
       "      <td>Safe feature candidate</td>\n",
       "      <td>Can be used as model input if relevant</td>\n",
       "    </tr>\n",
       "    <tr>\n",
       "      <th>13</th>\n",
       "      <td>order_notes</td>\n",
       "      <td>Safe feature candidate</td>\n",
       "      <td>Can be used as model input if relevant</td>\n",
       "    </tr>\n",
       "    <tr>\n",
       "      <th>14</th>\n",
       "      <td>actual_delivery_date</td>\n",
       "      <td>Potential leakage (future info)</td>\n",
       "      <td>Use only values known at order_date; avoid fut...</td>\n",
       "    </tr>\n",
       "    <tr>\n",
       "      <th>15</th>\n",
       "      <td>late_delivery</td>\n",
       "      <td>Potential leakage (future info)</td>\n",
       "      <td>Use only values known at order_date; avoid fut...</td>\n",
       "    </tr>\n",
       "    <tr>\n",
       "      <th>16</th>\n",
       "      <td>delay_days</td>\n",
       "      <td>Potential leakage (future info)</td>\n",
       "      <td>Use only values known at order_date; avoid fut...</td>\n",
       "    </tr>\n",
       "    <tr>\n",
       "      <th>17</th>\n",
       "      <td>partial_delivery</td>\n",
       "      <td>Potential leakage (future info)</td>\n",
       "      <td>Use only values known at order_date; avoid fut...</td>\n",
       "    </tr>\n",
       "    <tr>\n",
       "      <th>18</th>\n",
       "      <td>cancelled</td>\n",
       "      <td>Potential leakage (future info)</td>\n",
       "      <td>Use only values known at order_date; avoid fut...</td>\n",
       "    </tr>\n",
       "    <tr>\n",
       "      <th>19</th>\n",
       "      <td>delay_reason</td>\n",
       "      <td>Potential leakage (future info)</td>\n",
       "      <td>Use only values known at order_date; avoid fut...</td>\n",
       "    </tr>\n",
       "    <tr>\n",
       "      <th>20</th>\n",
       "      <td>name</td>\n",
       "      <td>Safe feature candidate</td>\n",
       "      <td>Can be used as model input if relevant</td>\n",
       "    </tr>\n",
       "    <tr>\n",
       "      <th>21</th>\n",
       "      <td>country</td>\n",
       "      <td>Safe feature candidate</td>\n",
       "      <td>Can be used as model input if relevant</td>\n",
       "    </tr>\n",
       "    <tr>\n",
       "      <th>22</th>\n",
       "      <td>preferred</td>\n",
       "      <td>Safe feature candidate</td>\n",
       "      <td>Can be used as model input if relevant</td>\n",
       "    </tr>\n",
       "    <tr>\n",
       "      <th>23</th>\n",
       "      <td>rating</td>\n",
       "      <td>Safe feature candidate</td>\n",
       "      <td>Can be used as model input if relevant</td>\n",
       "    </tr>\n",
       "    <tr>\n",
       "      <th>24</th>\n",
       "      <td>base_lead_time_days</td>\n",
       "      <td>Safe feature candidate</td>\n",
       "      <td>Can be used as model input if relevant</td>\n",
       "    </tr>\n",
       "    <tr>\n",
       "      <th>25</th>\n",
       "      <td>on_time_bias</td>\n",
       "      <td>Safe feature candidate</td>\n",
       "      <td>Can be used as model input if relevant</td>\n",
       "    </tr>\n",
       "    <tr>\n",
       "      <th>26</th>\n",
       "      <td>name_product</td>\n",
       "      <td>Safe feature candidate</td>\n",
       "      <td>Can be used as model input if relevant</td>\n",
       "    </tr>\n",
       "    <tr>\n",
       "      <th>27</th>\n",
       "      <td>uom</td>\n",
       "      <td>Safe feature candidate</td>\n",
       "      <td>Can be used as model input if relevant</td>\n",
       "    </tr>\n",
       "    <tr>\n",
       "      <th>28</th>\n",
       "      <td>hazard_class</td>\n",
       "      <td>Safe feature candidate</td>\n",
       "      <td>Can be used as model input if relevant</td>\n",
       "    </tr>\n",
       "    <tr>\n",
       "      <th>29</th>\n",
       "      <td>base_price_eur</td>\n",
       "      <td>Potential leakage (future info)</td>\n",
       "      <td>Use only values known at order_date; avoid fut...</td>\n",
       "    </tr>\n",
       "    <tr>\n",
       "      <th>30</th>\n",
       "      <td>valid_from</td>\n",
       "      <td>Potential leakage (future info)</td>\n",
       "      <td>Use only values known at order_date; avoid fut...</td>\n",
       "    </tr>\n",
       "    <tr>\n",
       "      <th>31</th>\n",
       "      <td>valid_to</td>\n",
       "      <td>Potential leakage (future info)</td>\n",
       "      <td>Use only values known at order_date; avoid fut...</td>\n",
       "    </tr>\n",
       "    <tr>\n",
       "      <th>32</th>\n",
       "      <td>currency_price</td>\n",
       "      <td>Potential leakage (future info)</td>\n",
       "      <td>Use only values known at order_date; avoid fut...</td>\n",
       "    </tr>\n",
       "    <tr>\n",
       "      <th>33</th>\n",
       "      <td>price_per_uom</td>\n",
       "      <td>Potential leakage (future info)</td>\n",
       "      <td>Use only values known at order_date; avoid fut...</td>\n",
       "    </tr>\n",
       "    <tr>\n",
       "      <th>34</th>\n",
       "      <td>min_qty</td>\n",
       "      <td>Safe feature candidate</td>\n",
       "      <td>Can be used as model input if relevant</td>\n",
       "    </tr>\n",
       "  </tbody>\n",
       "</table>\n",
       "</div>"
      ],
      "text/plain": [
       "                  Column                             Risk  \\\n",
       "0               order_id           Safe feature candidate   \n",
       "1             order_date           Safe feature candidate   \n",
       "2            supplier_id           Safe feature candidate   \n",
       "3                    sku           Safe feature candidate   \n",
       "4                    qty           Safe feature candidate   \n",
       "5             unit_price  Potential leakage (future info)   \n",
       "6               currency           Safe feature candidate   \n",
       "7              ship_mode           Safe feature candidate   \n",
       "8               incoterm           Safe feature candidate   \n",
       "9          payment_terms           Safe feature candidate   \n",
       "10           distance_km           Safe feature candidate   \n",
       "11         promised_date           Safe feature candidate   \n",
       "12                urgent           Safe feature candidate   \n",
       "13           order_notes           Safe feature candidate   \n",
       "14  actual_delivery_date  Potential leakage (future info)   \n",
       "15         late_delivery  Potential leakage (future info)   \n",
       "16            delay_days  Potential leakage (future info)   \n",
       "17      partial_delivery  Potential leakage (future info)   \n",
       "18             cancelled  Potential leakage (future info)   \n",
       "19          delay_reason  Potential leakage (future info)   \n",
       "20                  name           Safe feature candidate   \n",
       "21               country           Safe feature candidate   \n",
       "22             preferred           Safe feature candidate   \n",
       "23                rating           Safe feature candidate   \n",
       "24   base_lead_time_days           Safe feature candidate   \n",
       "25          on_time_bias           Safe feature candidate   \n",
       "26          name_product           Safe feature candidate   \n",
       "27                   uom           Safe feature candidate   \n",
       "28          hazard_class           Safe feature candidate   \n",
       "29        base_price_eur  Potential leakage (future info)   \n",
       "30            valid_from  Potential leakage (future info)   \n",
       "31              valid_to  Potential leakage (future info)   \n",
       "32        currency_price  Potential leakage (future info)   \n",
       "33         price_per_uom  Potential leakage (future info)   \n",
       "34               min_qty           Safe feature candidate   \n",
       "\n",
       "                                           Mitigation  \n",
       "0              Can be used as model input if relevant  \n",
       "1              Can be used as model input if relevant  \n",
       "2              Can be used as model input if relevant  \n",
       "3              Can be used as model input if relevant  \n",
       "4              Can be used as model input if relevant  \n",
       "5   Use only values known at order_date; avoid fut...  \n",
       "6              Can be used as model input if relevant  \n",
       "7              Can be used as model input if relevant  \n",
       "8              Can be used as model input if relevant  \n",
       "9              Can be used as model input if relevant  \n",
       "10             Can be used as model input if relevant  \n",
       "11             Can be used as model input if relevant  \n",
       "12             Can be used as model input if relevant  \n",
       "13             Can be used as model input if relevant  \n",
       "14  Use only values known at order_date; avoid fut...  \n",
       "15  Use only values known at order_date; avoid fut...  \n",
       "16  Use only values known at order_date; avoid fut...  \n",
       "17  Use only values known at order_date; avoid fut...  \n",
       "18  Use only values known at order_date; avoid fut...  \n",
       "19  Use only values known at order_date; avoid fut...  \n",
       "20             Can be used as model input if relevant  \n",
       "21             Can be used as model input if relevant  \n",
       "22             Can be used as model input if relevant  \n",
       "23             Can be used as model input if relevant  \n",
       "24             Can be used as model input if relevant  \n",
       "25             Can be used as model input if relevant  \n",
       "26             Can be used as model input if relevant  \n",
       "27             Can be used as model input if relevant  \n",
       "28             Can be used as model input if relevant  \n",
       "29  Use only values known at order_date; avoid fut...  \n",
       "30  Use only values known at order_date; avoid fut...  \n",
       "31  Use only values known at order_date; avoid fut...  \n",
       "32  Use only values known at order_date; avoid fut...  \n",
       "33  Use only values known at order_date; avoid fut...  \n",
       "34             Can be used as model input if relevant  "
      ]
     },
     "execution_count": 29,
     "metadata": {},
     "output_type": "execute_result"
    }
   ],
   "source": [
    "# Leakage check on expanded_po (merged PO + price lists)\n",
    "\n",
    "# Ensure we have the merged table from price matching\n",
    "# expanded_po = po.merge(prices, on=['supplier_id','sku'], how='left', suffixes=('','_price'))\n",
    "\n",
    "columns_to_check = po_price_matched.columns.tolist()\n",
    "\n",
    "# Keywords indicating potential leakage\n",
    "leakage_keywords = ['late', 'delay', 'cancelled', 'partial', 'actual_delivery', 'price', 'valid_from', 'valid_to']\n",
    "\n",
    "leakage_info = []\n",
    "for col in columns_to_check:\n",
    "    if any(k in col.lower() for k in leakage_keywords):\n",
    "        leakage_info.append({\n",
    "            'Column': col,\n",
    "            'Risk': 'Potential leakage (future info)',\n",
    "            'Mitigation': 'Use only values known at order_date; avoid future info'\n",
    "        })\n",
    "    else:\n",
    "        leakage_info.append({\n",
    "            'Column': col,\n",
    "            'Risk': 'Safe feature candidate',\n",
    "            'Mitigation': 'Can be used as model input if relevant'\n",
    "        })\n",
    "\n",
    "# Display results\n",
    "leakage_df = pd.DataFrame(leakage_info)\n",
    "leakage_df\n"
   ]
  },
  {
   "cell_type": "markdown",
   "id": "9608d95e",
   "metadata": {},
   "source": [
    "How this works:\n",
    "\n",
    "1) Scans all columns in po_price_matched table which has all the 5 datasets merged.\n",
    "\n",
    "2) Flags any column containing keywords like 'late', 'delay', 'cancelled', 'partial', 'actual_delivery' as potential leakage.\n",
    "\n",
    "3) Marks the remaining columns as safe features.\n",
    "\n",
    "4) Outputs a DataFrame table from my notebook"
   ]
  }
 ],
 "metadata": {
  "kernelspec": {
   "display_name": "base",
   "language": "python",
   "name": "python3"
  },
  "language_info": {
   "codemirror_mode": {
    "name": "ipython",
    "version": 3
   },
   "file_extension": ".py",
   "mimetype": "text/x-python",
   "name": "python",
   "nbconvert_exporter": "python",
   "pygments_lexer": "ipython3",
   "version": "3.11.5"
  }
 },
 "nbformat": 4,
 "nbformat_minor": 5
}
